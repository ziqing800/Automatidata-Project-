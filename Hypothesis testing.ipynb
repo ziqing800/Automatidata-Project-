{
  "metadata": {
    "kernelspec": {
      "name": "python",
      "display_name": "Python (Pyodide)",
      "language": "python"
    },
    "language_info": {
      "codemirror_mode": {
        "name": "python",
        "version": 3
      },
      "file_extension": ".py",
      "mimetype": "text/x-python",
      "name": "python",
      "nbconvert_exporter": "python",
      "pygments_lexer": "ipython3",
      "version": "3.8"
    }
  },
  "nbformat_minor": 4,
  "nbformat": 4,
  "cells": [
    {
      "cell_type": "markdown",
      "source": "## Hypothesis testing ",
      "metadata": {}
    },
    {
      "cell_type": "markdown",
      "source": "Aim: to find ways to generate more revenue for taxi drivers\n\nAssumption: Sample data comes from 2 groups of customers where they are required to either pay by cash or credit card \nWithout this assumption, casusal conclusions cannot be drawn about how payment method affects fare amount ",
      "metadata": {}
    },
    {
      "cell_type": "markdown",
      "source": "### Import packages ",
      "metadata": {}
    },
    {
      "cell_type": "code",
      "source": "import pandas as pd\nfrom scipy import stats",
      "metadata": {
        "trusted": true
      },
      "outputs": [],
      "execution_count": 2
    },
    {
      "cell_type": "markdown",
      "source": "### Import data ",
      "metadata": {}
    },
    {
      "cell_type": "code",
      "source": "taxi_data = pd.read_csv(\"2017_Yellow_Taxi_Trip_Data.csv\", index_col = 0)",
      "metadata": {
        "trusted": true
      },
      "outputs": [],
      "execution_count": 3
    },
    {
      "cell_type": "markdown",
      "source": "### Relationship between payment type & fare amount",
      "metadata": {}
    },
    {
      "cell_type": "code",
      "source": "taxi_data.groupby('payment_type')['fare_amount'].mean()",
      "metadata": {
        "trusted": true
      },
      "outputs": [
        {
          "execution_count": 4,
          "output_type": "execute_result",
          "data": {
            "text/plain": "payment_type\n1    13.429748\n2    12.213546\n3    12.186116\n4     9.913043\nName: fare_amount, dtype: float64"
          },
          "metadata": {}
        }
      ],
      "execution_count": 4
    },
    {
      "cell_type": "markdown",
      "source": "Based on the results above, customers who paid using credit card tend to pay a larger fare amount than customers who paid in cash. ",
      "metadata": {}
    },
    {
      "cell_type": "markdown",
      "source": "### Hypothesis testing \n\nTo investigate whether the difference between fare amount is statistically significant",
      "metadata": {}
    },
    {
      "cell_type": "markdown",
      "source": "Null hypothesis: There is no difference in the average fare amount between customers who use credit cards and customers who use cash.\n\nAlternative hypothesis: There is a difference in the average fare amount between customers who use credit cards and customers who use cash.",
      "metadata": {}
    },
    {
      "cell_type": "code",
      "source": "#hypothesis test, A/B test\nsignificance_level =0.05\n\ncredit_card = taxi_data[taxi_data['payment_type'] == 1]['fare_amount']\ncash = taxi_data[taxi_data['payment_type'] == 2]['fare_amount']\nstats.ttest_ind(a=credit_card, b=cash, equal_var=False)",
      "metadata": {
        "trusted": true
      },
      "outputs": [
        {
          "execution_count": 7,
          "output_type": "execute_result",
          "data": {
            "text/plain": "TtestResult(statistic=6.866800855655372, pvalue=6.797387473030518e-12, df=16675.48547403633)"
          },
          "metadata": {}
        }
      ],
      "execution_count": 7
    },
    {
      "cell_type": "markdown",
      "source": "Since the p-value is significantly smaller than the significance level of 5%, reject the null hypothesis.",
      "metadata": {}
    },
    {
      "cell_type": "markdown",
      "source": "### Conclusion \n\nThere is a statistically significant difference in the average fare amount between customers using credit cards and cash ",
      "metadata": {}
    },
    {
      "cell_type": "markdown",
      "source": "### Business insights from results \n\nEncouraging customers to pay with credit cards can generate more revenue for taxi drivers \nHowever, the results of the hypothesis testing doesnt not account for other likely explanations that cannot be measured through this testing, such as customer preferred payment type due to convenience or having insufficient cash ",
      "metadata": {}
    },
    {
      "cell_type": "code",
      "source": "",
      "metadata": {
        "trusted": true
      },
      "outputs": [],
      "execution_count": null
    }
  ]
}